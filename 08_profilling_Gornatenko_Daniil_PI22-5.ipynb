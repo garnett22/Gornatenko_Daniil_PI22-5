{
 "cells": [
  {
   "cell_type": "markdown",
   "metadata": {},
   "source": [
    "___Горнатенко Даниил, ПИ22-5___"
   ]
  },
  {
   "cell_type": "markdown",
   "metadata": {},
   "source": [
    "## Оптимизация выполнения кода, векторизация, Numba"
   ]
  },
  {
   "cell_type": "markdown",
   "metadata": {},
   "source": [
    "Материалы:\n",
    "* Макрушин С.В. Лекция 3: Оптимизация выполнения кода, векторизация, Numba\n",
    "* IPython Cookbook, Second Edition (2018), глава 4\n",
    "* https://numba.pydata.org/numba-doc/latest/user/5minguide.html"
   ]
  },
  {
   "cell_type": "markdown",
   "metadata": {},
   "source": [
    "## Задачи для совместного разбора"
   ]
  },
  {
   "cell_type": "markdown",
   "metadata": {},
   "source": [
    "1. Сгенерируйте массив `A` из `N=1млн` случайных целых чисел на отрезке от 0 до 1000. Пусть `B[i] = A[i] + 100`. Посчитайте среднее значение массива `B`."
   ]
  },
  {
   "cell_type": "code",
   "execution_count": 10,
   "metadata": {},
   "outputs": [
    {
     "data": {
      "text/plain": [
       "599.938381"
      ]
     },
     "execution_count": 10,
     "metadata": {},
     "output_type": "execute_result"
    }
   ],
   "source": [
    "import random\n",
    "N = 1000000\n",
    "A = [random.randint(0, 1000) for i in range(N)]\n",
    "B = [a + 100 for a in A]\n",
    "sum(B) / N"
   ]
  },
  {
   "cell_type": "markdown",
   "metadata": {},
   "source": [
    "2. Создайте таблицу 2млн строк и с 4 столбцами, заполненными случайными числами. Добавьте столбец `key`, которые содержит элементы из множества английских букв. Выберите из таблицы подмножество строк, для которых в столбце `key` указаны первые 5 английских букв."
   ]
  },
  {
   "cell_type": "code",
   "execution_count": 12,
   "metadata": {},
   "outputs": [
    {
     "data": {
      "text/html": [
       "<div>\n",
       "<style scoped>\n",
       "    .dataframe tbody tr th:only-of-type {\n",
       "        vertical-align: middle;\n",
       "    }\n",
       "\n",
       "    .dataframe tbody tr th {\n",
       "        vertical-align: top;\n",
       "    }\n",
       "\n",
       "    .dataframe thead th {\n",
       "        text-align: right;\n",
       "    }\n",
       "</style>\n",
       "<table border=\"1\" class=\"dataframe\">\n",
       "  <thead>\n",
       "    <tr style=\"text-align: right;\">\n",
       "      <th></th>\n",
       "      <th>1</th>\n",
       "      <th>2</th>\n",
       "      <th>3</th>\n",
       "      <th>4</th>\n",
       "      <th>key</th>\n",
       "    </tr>\n",
       "  </thead>\n",
       "  <tbody>\n",
       "    <tr>\n",
       "      <th>2</th>\n",
       "      <td>0.869806</td>\n",
       "      <td>0.153813</td>\n",
       "      <td>0.405403</td>\n",
       "      <td>0.468079</td>\n",
       "      <td>b</td>\n",
       "    </tr>\n",
       "    <tr>\n",
       "      <th>17</th>\n",
       "      <td>0.531765</td>\n",
       "      <td>0.603818</td>\n",
       "      <td>0.024534</td>\n",
       "      <td>0.032101</td>\n",
       "      <td>a</td>\n",
       "    </tr>\n",
       "    <tr>\n",
       "      <th>20</th>\n",
       "      <td>0.843399</td>\n",
       "      <td>0.905415</td>\n",
       "      <td>0.429450</td>\n",
       "      <td>0.777628</td>\n",
       "      <td>b</td>\n",
       "    </tr>\n",
       "    <tr>\n",
       "      <th>25</th>\n",
       "      <td>0.927212</td>\n",
       "      <td>0.687816</td>\n",
       "      <td>0.324023</td>\n",
       "      <td>0.302171</td>\n",
       "      <td>d</td>\n",
       "    </tr>\n",
       "    <tr>\n",
       "      <th>26</th>\n",
       "      <td>0.802025</td>\n",
       "      <td>0.415647</td>\n",
       "      <td>0.772678</td>\n",
       "      <td>0.000638</td>\n",
       "      <td>c</td>\n",
       "    </tr>\n",
       "    <tr>\n",
       "      <th>...</th>\n",
       "      <td>...</td>\n",
       "      <td>...</td>\n",
       "      <td>...</td>\n",
       "      <td>...</td>\n",
       "      <td>...</td>\n",
       "    </tr>\n",
       "    <tr>\n",
       "      <th>1999965</th>\n",
       "      <td>0.939814</td>\n",
       "      <td>0.292776</td>\n",
       "      <td>0.584670</td>\n",
       "      <td>0.720668</td>\n",
       "      <td>e</td>\n",
       "    </tr>\n",
       "    <tr>\n",
       "      <th>1999979</th>\n",
       "      <td>0.545696</td>\n",
       "      <td>0.556813</td>\n",
       "      <td>0.194879</td>\n",
       "      <td>0.036872</td>\n",
       "      <td>e</td>\n",
       "    </tr>\n",
       "    <tr>\n",
       "      <th>1999993</th>\n",
       "      <td>0.997801</td>\n",
       "      <td>0.534124</td>\n",
       "      <td>0.619864</td>\n",
       "      <td>0.622083</td>\n",
       "      <td>e</td>\n",
       "    </tr>\n",
       "    <tr>\n",
       "      <th>1999994</th>\n",
       "      <td>0.933772</td>\n",
       "      <td>0.628494</td>\n",
       "      <td>0.645236</td>\n",
       "      <td>0.889022</td>\n",
       "      <td>d</td>\n",
       "    </tr>\n",
       "    <tr>\n",
       "      <th>1999995</th>\n",
       "      <td>0.997059</td>\n",
       "      <td>0.986132</td>\n",
       "      <td>0.772620</td>\n",
       "      <td>0.080895</td>\n",
       "      <td>d</td>\n",
       "    </tr>\n",
       "  </tbody>\n",
       "</table>\n",
       "<p>400200 rows × 5 columns</p>\n",
       "</div>"
      ],
      "text/plain": [
       "                1         2         3         4 key\n",
       "2        0.869806  0.153813  0.405403  0.468079   b\n",
       "17       0.531765  0.603818  0.024534  0.032101   a\n",
       "20       0.843399  0.905415  0.429450  0.777628   b\n",
       "25       0.927212  0.687816  0.324023  0.302171   d\n",
       "26       0.802025  0.415647  0.772678  0.000638   c\n",
       "...           ...       ...       ...       ...  ..\n",
       "1999965  0.939814  0.292776  0.584670  0.720668   e\n",
       "1999979  0.545696  0.556813  0.194879  0.036872   e\n",
       "1999993  0.997801  0.534124  0.619864  0.622083   e\n",
       "1999994  0.933772  0.628494  0.645236  0.889022   d\n",
       "1999995  0.997059  0.986132  0.772620  0.080895   d\n",
       "\n",
       "[400200 rows x 5 columns]"
      ]
     },
     "execution_count": 12,
     "metadata": {},
     "output_type": "execute_result"
    }
   ],
   "source": [
    "import pandas as pd\n",
    "import numpy as np\n",
    "\n",
    "df = pd.DataFrame(np.random.rand(2000000, 4), columns=['1', '2', '3', '4'])\n",
    "\n",
    "df['key'] = [chr(np.random.randint(97, 122)) for i in range(2000000)]\n",
    "\n",
    "df[df['key'].str.contains('^[a-eA-E]')]"
   ]
  },
  {
   "cell_type": "markdown",
   "metadata": {},
   "source": [
    "## Лабораторная работа 3"
   ]
  },
  {
   "cell_type": "code",
   "execution_count": null,
   "metadata": {},
   "outputs": [],
   "source": [
    "# !pip install line_profiler"
   ]
  },
  {
   "cell_type": "markdown",
   "metadata": {},
   "source": [
    "1. В файлах `recipes_sample.csv` и `reviews_sample.csv` (__ЛР 2__) находится информация об рецептах блюд и отзывах на эти рецепты соответственно. Загрузите данные из файлов в виде `pd.DataFrame` с названиями `recipes` и `reviews`. Обратите внимание на корректное считывание столбца(ов) с индексами. Приведите столбцы к нужным типам.\n",
    "\n",
    "Реализуйте несколько вариантов функции подсчета среднего значения столбца `rating` из таблицы `reviews` для отзывов, оставленных в 2010 году.\n",
    "\n",
    "A. С использованием метода `DataFrame.iterrows` исходной таблицы;\n",
    "\n",
    "Б. С использованием метода `DataFrame.iterrows` таблицы, в которой сохранены только отзывы за 2010 год;\n",
    "\n",
    "В. С использованием метода `Series.mean`.\n",
    "\n",
    "Проверьте, что результаты работы всех написанных функций корректны и совпадают. Измерьте выполнения всех написанных функций.\n"
   ]
  },
  {
   "cell_type": "code",
   "execution_count": 13,
   "metadata": {},
   "outputs": [
    {
     "name": "stdout",
     "output_type": "stream",
     "text": [
      "1) 4.4544402182900615\n",
      "2) 4.4544402182900615\n",
      "3) 4.4544402182900615\n",
      "\n",
      "\n",
      "mean1: 4.4544402182900615, time - 1.8806769847869873\n",
      "mean2: 4.4544402182900615, time - 0.1675550937652588\n",
      "mean3: 4.4544402182900615, time - 0.31706786155700684\n"
     ]
    }
   ],
   "source": [
    "import pandas as pd\n",
    "import time\n",
    "\n",
    "recipes = pd.read_csv('recipes_sample.csv', index_col=0, delimiter=',')\n",
    "reviews = pd.read_csv('reviews_sample.csv', index_col=0, delimiter=',')\n",
    "\n",
    "reviews['date'] = pd.to_datetime(reviews['date'])\n",
    "\n",
    "def mean1(reviews):\n",
    "    sumall = 0\n",
    "    counter = 0\n",
    "    for index, row in reviews.iterrows():\n",
    "        if row['date'].year == 2010:\n",
    "            sumall += row['rating']\n",
    "            counter += 1\n",
    "    return sumall / counter\n",
    "\n",
    "def mean2(reviews):\n",
    "    sumall = 0\n",
    "    counter = 0\n",
    "    for index, row in reviews.loc[reviews['date'].dt.year == 2010].iterrows():\n",
    "        sumall += row['rating']\n",
    "        counter += 1\n",
    "    return sumall / counter\n",
    "\n",
    "def mean3(reviews):\n",
    "    filtered_reviews = reviews.loc[reviews['date'].astype(str).str.contains('2010')]\n",
    "    return filtered_reviews['rating'].mean()\n",
    "\n",
    "print(f'1) {mean1(reviews)}')\n",
    "print(f'2) {mean2(reviews)}')\n",
    "print(f'3) {mean3(reviews)}')\n",
    "\n",
    "print('\\n')\n",
    "\n",
    "start_time = time.time()\n",
    "res1 = mean1(reviews)\n",
    "end_time = time.time()\n",
    "print(f'mean1: {res1}, time - {end_time - start_time}')\n",
    "\n",
    "start_time = time.time()\n",
    "res2 = mean2(reviews)\n",
    "end_time = time.time()\n",
    "print(f'mean2: {res2}, time - {end_time - start_time}')\n",
    "\n",
    "start_time = time.time()\n",
    "res3 = mean3(reviews)\n",
    "end_time = time.time()\n",
    "print(f'mean3: {res3}, time - {end_time - start_time}')"
   ]
  },
  {
   "cell_type": "markdown",
   "metadata": {},
   "source": [
    "2. Какая из созданных функций выполняется медленнее? Что наиболее сильно влияет на скорость выполнения? Для ответа использовать профайлер `line_profiler`. Сохраните результаты работы профайлера в отдельную текстовую ячейку и прокомментируйте результаты его работы.\n",
    "\n",
    "(*). Сможете ли вы ускорить работу функции 1Б, отказавшись от использования метода `iterrows`, но не используя метод `mean`?"
   ]
  },
  {
   "cell_type": "code",
   "execution_count": 14,
   "metadata": {},
   "outputs": [
    {
     "name": "stdout",
     "output_type": "stream",
     "text": [
      "Вариант A, так как мы итерируемся абсолютно по всем строкам, а в других вариантах мы проходимсятолько по отфильтрованным (только отзывы за 2010 год) строкам, что значительно уменьшает количество обрабатываемыхданных, вследствие чего сильно увеличивает время выполнения функции\n"
     ]
    }
   ],
   "source": [
    "print('Вариант A, так как мы итерируемся абсолютно по всем строкам, а в других вариантах мы проходимся\\\n",
    "только по отфильтрованным (только отзывы за 2010 год) строкам, что значительно уменьшает количество обрабатываемых\\\n",
    "данных, вследствие чего сильно увеличивает время выполнения функции')"
   ]
  },
  {
   "cell_type": "code",
   "execution_count": 15,
   "metadata": {},
   "outputs": [
    {
     "name": "stdout",
     "output_type": "stream",
     "text": [
      "Collecting line_profiler\n",
      "  Downloading line_profiler-4.0.3.tar.gz (151 kB)\n",
      "\u001b[K     |████████████████████████████████| 151 kB 766 kB/s eta 0:00:01\n",
      "\u001b[?25h  Installing build dependencies ... \u001b[?25ldone\n",
      "\u001b[?25h  Getting requirements to build wheel ... \u001b[?25ldone\n",
      "\u001b[?25h  Installing backend dependencies ... \u001b[?25ldone\n",
      "\u001b[?25h    Preparing wheel metadata ... \u001b[?25ldone\n",
      "\u001b[?25hBuilding wheels for collected packages: line-profiler\n",
      "  Building wheel for line-profiler (PEP 517) ... \u001b[?25ldone\n",
      "\u001b[?25h  Created wheel for line-profiler: filename=line_profiler-4.0.3-cp39-cp39-macosx_11_0_arm64.whl size=85419 sha256=2dd0a0a3eb3745718c18ecd299556cc06bdd6ec172f79af0e79f9d96178b61d8\n",
      "  Stored in directory: /Users/daniilgornatenko/Library/Caches/pip/wheels/5e/f9/e4/51d4cec1d9283c683a7edea0aad7c5bf1bad70c1d886de3cb1\n",
      "Successfully built line-profiler\n",
      "Installing collected packages: line-profiler\n",
      "Successfully installed line-profiler-4.0.3\n"
     ]
    }
   ],
   "source": [
    "!pip install line_profiler\n",
    "%load_ext line_profiler\n",
    "\n",
    "%lprun -f mean1 mean1(reviews)"
   ]
  },
  {
   "cell_type": "code",
   "execution_count": 16,
   "metadata": {},
   "outputs": [
    {
     "name": "stdout",
     "output_type": "stream",
     "text": [
      "Таким образом, используя лямбда-функцию и метод apply, мы сокращаем время выполнения программы, так какв памяти устройства во время выполнения функции не сохраняются данные, а в предыдущей версии функции сохранялись\n"
     ]
    }
   ],
   "source": [
    "def mean1_2(reviews):\n",
    "    filtered_reviews = reviews[reviews['date'].dt.year == 2010]\n",
    "    count = len(filtered_reviews)\n",
    "    if count > 0:\n",
    "        return filtered_reviews['rating'].apply(lambda x: float(x)).sum() / count\n",
    "    else:\n",
    "        return None\n",
    "\n",
    "%lprun -f mean1_2 mean1_2(reviews)\n",
    "\n",
    "print('Таким образом, используя лямбда-функцию и метод apply, мы сокращаем время выполнения программы, так как\\\n",
    "в памяти устройства во время выполнения функции не сохраняются данные, а в предыдущей версии функции сохранялись')"
   ]
  },
  {
   "cell_type": "markdown",
   "metadata": {},
   "source": [
    "3. Вам предлагается воспользоваться функцией, которая собирает статистику о том, сколько отзывов содержат то или иное слово. Измерьте время выполнения этой функции. Сможете ли вы найти узкие места в коде, используя профайлер? Выпишите (словами), что в имеющемся коде реализовано неоптимально. Оптимизируйте функцию и добейтесь значительного (как минимум, на один порядок) прироста в скорости выполнения."
   ]
  },
  {
   "cell_type": "code",
   "execution_count": null,
   "metadata": {},
   "outputs": [],
   "source": [
    "def get_word_reviews_count(df):\n",
    "    word_reviews = {}\n",
    "    for _, row in df.dropna(subset=['review']).iterrows():\n",
    "        recipe_id, review = row['recipe_id'], row['review']\n",
    "        words = review.split(' ')\n",
    "        for word in words:\n",
    "            if word not in word_reviews:\n",
    "                word_reviews[word] = []\n",
    "            word_reviews[word].append(recipe_id)\n",
    "    \n",
    "    word_reviews_count = {}\n",
    "    for _, row in df.dropna(subset=['review']).iterrows():\n",
    "        review = row['review']\n",
    "        words = review.split(' ')\n",
    "        for word in words:\n",
    "            word_reviews_count[word] = len(word_reviews[word])\n",
    "    return word_reviews_count\n",
    "\n",
    "%lprun -f get_word_reviews_count get_word_reviews_count(reviews) # Total time: 51.2559 s\n",
    "\n",
    "from collections import defaultdict\n",
    "\n",
    "def get_word_reviews_count2(df):\n",
    "    word_reviews = defaultdict(list) # для хранения списка рецептов, в которых встречается каждое слово\n",
    "    word_reviews_count = defaultdict(int) # для хранения количества отзывов с каждым словом\n",
    "    for _, row in df.dropna(subset=['review']).iterrows():\n",
    "        recipe_id, review = row['recipe_id'], row['review']\n",
    "        for word in review.split():\n",
    "            word_reviews[word].append(recipe_id)\n",
    "    for word in word_reviews:\n",
    "        word_reviews_count[word] = len(word_reviews[word])\n",
    "# +заменили сплит на более быстрый вариант работы со строкой как со списком символов, сократили время выполнения функции в 2 раза: Total time: 26.2478 s\n",
    " \n",
    "%lprun -f get_word_reviews_count2 get_word_reviews_count2(reviews)"
   ]
  }
 ],
 "metadata": {
  "kernelspec": {
   "display_name": "Python 3 (ipykernel)",
   "language": "python",
   "name": "python3"
  },
  "language_info": {
   "codemirror_mode": {
    "name": "ipython",
    "version": 3
   },
   "file_extension": ".py",
   "mimetype": "text/x-python",
   "name": "python",
   "nbconvert_exporter": "python",
   "pygments_lexer": "ipython3",
   "version": "3.9.12"
  }
 },
 "nbformat": 4,
 "nbformat_minor": 4
}
